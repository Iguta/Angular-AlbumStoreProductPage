{
  "cells": [
    {
      "cell_type": "markdown",
      "metadata": {
        "id": "view-in-github",
        "colab_type": "text"
      },
      "source": [
        "<a href=\"https://colab.research.google.com/github/Iguta/Angular-AlbumStoreProductPage/blob/master/Lab_1_Deep_Network.ipynb\" target=\"_parent\"><img src=\"https://colab.research.google.com/assets/colab-badge.svg\" alt=\"Open In Colab\"/></a>"
      ]
    },
    {
      "cell_type": "markdown",
      "metadata": {
        "id": "PDqHpPES7VTo"
      },
      "source": [
        "## Problem 1:\n",
        "\n",
        "### Approximate the following function:\n",
        "$\\Large f ( x ) = 𝑥^3−2𝑥^2+3𝑥−1 $\n"
      ]
    },
    {
      "cell_type": "markdown",
      "metadata": {
        "id": "RWmnZsGP7VTq"
      },
      "source": [
        "### Steps:\n",
        "1. Randomly generate the data. Generate at least 10,000 values for $x \\in [-100,100]$\n",
        "2. Plot the function\n",
        "3. Design a feed-forward network with 2 or more hidden layers. Choose the # of hidden units in each layer (what are the size of input and output layers?)\n",
        "4. Train the model (What loss function will be suitable here?)\n",
        "5. Generate a test data and present the test accuracy"
      ]
    },
    {
      "cell_type": "code",
      "source": [
        "#import  the necessary libraries\n",
        "import numpy as np\n",
        "import matplotlib.pyplot as plt"
      ],
      "metadata": {
        "id": "H4qhB5Hc70qm"
      },
      "execution_count": 1,
      "outputs": []
    },
    {
      "cell_type": "code",
      "source": [
        "#step 1 -> randomly generate the data\n",
        "X = np.random.uniform(-100,100,10000)\n",
        "Y = X ** 3 - 2 * X ** 2 + 3 * X - 1"
      ],
      "metadata": {
        "collapsed": true,
        "id": "wAbQnsa18b8C"
      },
      "execution_count": 10,
      "outputs": []
    },
    {
      "cell_type": "code",
      "source": [
        "#plot the function\n",
        "plt.plot(X,Y)"
      ],
      "metadata": {
        "colab": {
          "base_uri": "https://localhost:8080/",
          "height": 462
        },
        "id": "3H6wOfd49QbS",
        "outputId": "8de75816-3409-4535-fdba-38cb4d0985c5"
      },
      "execution_count": 11,
      "outputs": [
        {
          "output_type": "execute_result",
          "data": {
            "text/plain": [
              "[<matplotlib.lines.Line2D at 0x7dc1b556fe50>]"
            ]
          },
          "metadata": {},
          "execution_count": 11
        },
        {
          "output_type": "display_data",
          "data": {
            "text/plain": [
              "<Figure size 640x480 with 1 Axes>"
            ],
            "image/png": "[encoded data removed]"
          },
          "metadata": {}
        }
      ]
    },
    {
      "cell_type": "markdown",
      "metadata": {
        "id": "JlHde5Os7VTr"
      },
      "source": [
        "## Problem 2:\n",
        "\n",
        "### Feedforward Network\n",
        "- Hidden layer 1\n",
        "- Input size 784 [28X28] image\n",
        "- Hidden layer units 500\n",
        "- Output size 10\n",
        "- Other Hyperparameters:\n",
        " - num_epochs = 5\n",
        " - batch_size = 100\n",
        " - learning_rate = 0.001\n",
        "\n",
        "### Try out different regularization and optimization techniques and vary the corresponding hyperparameters\n",
        "- Hidden layers/units per layer\n",
        "- L2 regularization\n",
        "- Dropout\n",
        "- RMSProp\n",
        "- Adam\n",
        "- Minibatches\n",
        "\n",
        "### Tabulate your findings"
      ]
    },
    {
      "cell_type": "code",
      "execution_count": null,
      "metadata": {
        "id": "EBeBpxYz7VTs"
      },
      "outputs": [],
      "source": [
        "import torch\n",
        "import torch.nn as nn\n",
        "import numpy as np\n",
        "\n",
        "\n",
        "import torchvision\n",
        "import torchvision.transforms as transforms"
      ]
    },
    {
      "cell_type": "code",
      "execution_count": null,
      "metadata": {
        "id": "_2sHT-Wo7VTs"
      },
      "outputs": [],
      "source": [
        "input_size = 784\n",
        "hidden_size = 500\n",
        "num_classes = 10\n",
        "num_epochs = 5\n",
        "batch_size = 100\n",
        "learning_rate = 0.001"
      ]
    },
    {
      "cell_type": "markdown",
      "metadata": {
        "id": "obp-PkTj7VTt"
      },
      "source": [
        "### Defining the network"
      ]
    },
    {
      "cell_type": "code",
      "execution_count": null,
      "metadata": {
        "id": "k-RSj19z7VTt"
      },
      "outputs": [],
      "source": [
        "class NeuralNet(nn.Module):\n",
        "    def __init__(self, input_size, hidden_size, num_classes):\n",
        "\n",
        "\n",
        "    def forward(self, x):\n",
        "\n",
        "        return out"
      ]
    },
    {
      "cell_type": "markdown",
      "metadata": {
        "id": "ZQiy54iF7VTt"
      },
      "source": [
        "### Loading the datasets"
      ]
    },
    {
      "cell_type": "markdown",
      "metadata": {
        "id": "nxK7hUtZ7VTu"
      },
      "source": [
        "<i>\n",
        "#### Note: If the following code does not work, do the following:\n",
        "- open a terminal and enter\n",
        "- pip install ipywidgets\n",
        "- jupyter nbextension enable --py widgetsnbextension\n",
        "\n",
        "#### If the second line shows [OK], it should work </i>"
      ]
    },
    {
      "cell_type": "code",
      "execution_count": null,
      "metadata": {
        "id": "hHLpqYUE7VTu"
      },
      "outputs": [],
      "source": [
        "train_dataset = torchvision.datasets.MNIST(root='data',\n",
        "                                           train=True,\n",
        "                                           transform=transforms.ToTensor(),download=True)\n",
        "\n",
        "train_loader = torch.utils.data.DataLoader(dataset=train_dataset,\n",
        "                                           batch_size=batch_size, shuffle=True)"
      ]
    },
    {
      "cell_type": "code",
      "execution_count": null,
      "metadata": {
        "id": "uX9RePGS7VTu"
      },
      "outputs": [],
      "source": [
        "test_dataset = torchvision.datasets.MNIST(root='data',\n",
        "                                           train=False,\n",
        "                                           transform=transforms.ToTensor(),download=True)\n",
        "\n",
        "test_loader = torch.utils.data.DataLoader(dataset=test_dataset,\n",
        "                                           batch_size=batch_size, shuffle=True)"
      ]
    },
    {
      "cell_type": "markdown",
      "metadata": {
        "id": "5QReb8k37VTu"
      },
      "source": [
        "##### Display samples"
      ]
    },
    {
      "cell_type": "code",
      "execution_count": null,
      "metadata": {
        "id": "JpqaCh8e7VTu"
      },
      "outputs": [],
      "source": [
        "import matplotlib.pyplot as plt\n",
        "\n",
        "for images, labels in train_loader:\n",
        "    print(labels[0].item())\n",
        "\n",
        "    plt.imshow(images[0].reshape((28,28)))\n",
        "    break"
      ]
    },
    {
      "cell_type": "code",
      "execution_count": null,
      "metadata": {
        "id": "GiquIp6y7VTv"
      },
      "outputs": [],
      "source": [
        "model = NeuralNet(input_size, hidden_size, num_classes)"
      ]
    },
    {
      "cell_type": "code",
      "execution_count": null,
      "metadata": {
        "id": "YnD5WNyH7VTv"
      },
      "outputs": [],
      "source": [
        "criterion = nn.CrossEntropyLoss()\n",
        "optimizer = torch.optim.Adam(model.parameters(), lr=learning_rate)"
      ]
    },
    {
      "cell_type": "markdown",
      "metadata": {
        "id": "9C0EHNCD7VTv"
      },
      "source": [
        "### Train the model"
      ]
    },
    {
      "cell_type": "code",
      "execution_count": null,
      "metadata": {
        "id": "2e6I44x07VTv"
      },
      "outputs": [],
      "source": [
        "total_step = len(train_loader)\n",
        "for epoch in range(num_epochs):\n",
        "    for i, (images, labels) in enumerate(train_loader):\n",
        "        # Reconfigure the images into a 1D vector (actually, (X,1) tensor)\n",
        "\n",
        "        # Forward pass\n",
        "        ### Comput the output and loss\n",
        "\n",
        "\n",
        "        # Backward and optimize\n",
        "\n",
        "\n",
        "        # display the progress\n",
        "        if (i+1) % 100 == 0:\n",
        "            print ('Epoch [{}/{}], Step [{}/{}], Loss: {:.4f}' .format(epoch+1, num_epochs, i+1, total_step, loss.item()))\n",
        ""
      ]
    },
    {
      "cell_type": "markdown",
      "metadata": {
        "id": "7nUMZMhq7VTv"
      },
      "source": [
        "#### Taking 4 samples from the test set\n",
        "- display the image\n",
        "- print the true label\n",
        "- print the output probability distribution\n",
        "- print the predicted class"
      ]
    },
    {
      "cell_type": "code",
      "execution_count": null,
      "metadata": {
        "id": "oOyroWxZ7VTv"
      },
      "outputs": [],
      "source": []
    },
    {
      "cell_type": "markdown",
      "metadata": {
        "collapsed": true,
        "id": "NlPZtVMX7VTv"
      },
      "source": [
        "\n",
        "\n"
      ]
    }
  ],
  "metadata": {
    "kernelspec": {
      "display_name": "Python 3 (ipykernel)",
      "language": "python",
      "name": "python3"
    },
    "language_info": {
      "codemirror_mode": {
        "name": "ipython",
        "version": 3
      },
      "file_extension": ".py",
      "mimetype": "text/x-python",
      "name": "python",
      "nbconvert_exporter": "python",
      "pygments_lexer": "ipython3",
      "version": "3.9.7"
    },
    "colab": {
      "provenance": [],
      "include_colab_link": true
    }
  },
  "nbformat": 4,
  "nbformat_minor": 0
}